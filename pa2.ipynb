{
 "cells": [
  {
   "cell_type": "markdown",
   "id": "b329987d-a05d-4a34-8b42-ea26b9a49425",
   "metadata": {},
   "source": [
    "# 2. Programming Assignments: Numpy and Pandas Basics "
   ]
  },
  {
   "cell_type": "markdown",
   "id": "7b2e25d8-394b-4e8e-9180-b2a6f64ab200",
   "metadata": {},
   "source": [
    "## NumPy: Average exam scores "
   ]
  },
  {
   "cell_type": "markdown",
   "id": "7ec4b1ac-d57c-4a70-8448-19764fea877b",
   "metadata": {},
   "source": [
    "Write a program that reads two sets of exam scores of five students from user input and stores the scores into two NumPy arrays (exam1 and exam2). The program then calculates the average of the two exams for each of the five students and outputs the average scores as a NumPy array. The program finally counts the number of average scores that are 80 or higher and outputs the count.\n",
    "\n",
    "Ex: If the input of the two sets of scores are:\n",
    "\n",
    "    75 80 65 82 92\n",
    "    88 85 75 95 73\n",
    "\n",
    "where [75 80 65 82 92] is stored in NumPy array exam1, and [88 85 75 95 73] is stored in NumPy array exam2. The program then outputs:\n",
    "\n",
    "    Average scores: [81.5 82.5 70.  88.5 82.5]\n",
    "    Number of students who received 80 and above: 4\n",
    "\n"
   ]
  },
  {
   "cell_type": "code",
   "execution_count": null,
   "id": "8cacbc8f-d0f9-4382-8c98-f4fb3ee35321",
   "metadata": {},
   "outputs": [],
   "source": [
    "# TODO: Import NumPy\n",
    "import numpy as np\n",
    "\n",
    "# TODO: Read two sets of exam scores of five students from user input\n",
    "exam1 = np.array(list(map(float, input(\"Enter scores for exam 1 (space-separated): \").split())))\n",
    "exam2 = np.array(list(map(float, input(\"Enter scores for exam 2 (space-separated): \").split())))\n",
    "\n",
    "# TODO: Compute the average scores for each of the five students\n",
    "average_scores = (exam1 + exam2) / 2\n",
    "\n",
    "# TODO: Output \"Average scores: \" followed by the NumPy array of the average scores\n",
    "print(f\"Average scores: {average_scores}\")\n",
    "\n",
    "# TODO: Count the number of average scores that are >= 80\n",
    "above_80_count = np.sum(average_scores >= 80)\n",
    "\n",
    "# TODO: Output \"Number of students who received 80 and above: \" followed by the count\n",
    "print(f\"Number of students who received 80 and above: {above_80_count}\")"
   ]
  },
  {
   "cell_type": "code",
   "execution_count": null,
   "id": "6723fb5e-2609-4ffa-8b36-58b7541c5ff0",
   "metadata": {},
   "outputs": [],
   "source": []
  },
  {
   "cell_type": "markdown",
   "id": "580cae23-9502-44b6-96ee-5b8681410249",
   "metadata": {},
   "source": [
    "## Numpy: Curve student scores "
   ]
  },
  {
   "cell_type": "markdown",
   "id": "63a53d99-6513-41b0-8e23-c17a435d9476",
   "metadata": {},
   "source": [
    "Given the name of a text file that is read from user input and contains student scores, complete a program to perform the following tasks:\n",
    "\n",
    "- Load student scores from the text file into a NumPy array.\n",
    "- Calculate the median and average of the student scores.\n",
    "- Curve the student scores by adding the difference of 100 and the maximum score (100 - max) to each score. As a result, the new maximum score would become 100.\n",
    "- Output the median and average scores with two digits after the decimal point.\n",
    "- Output the curved scores as a NumPy array. End the last output with a newline.\n",
    "- Follow the output format as shown in the example below.\n",
    "Note: Different input text files will be used by the auto-grader. The number of student scores in each file may vary.\n",
    "\n",
    "Ex: If the input of the program is:\n",
    "\n",
    "    scores.txt\n",
    "the output is:\n",
    "\n",
    "    Median = 73.00\n",
    "    Average = 73.32\n",
    "    Curved scores = [ 70  95  84  68  98  73  67  88  73 100  79  92 100  83  98  85 100  85 77  95  99  81  69  74  75]\n"
   ]
  },
  {
   "cell_type": "code",
   "execution_count": 3,
   "id": "4b3b4689-3f94-4db9-b243-146cccc76b78",
   "metadata": {},
   "outputs": [
    {
     "ename": "KeyboardInterrupt",
     "evalue": "Interrupted by user",
     "output_type": "error",
     "traceback": [
      "\u001b[1;31m---------------------------------------------------------------------------\u001b[0m",
      "\u001b[1;31mKeyboardInterrupt\u001b[0m                         Traceback (most recent call last)",
      "Cell \u001b[1;32mIn[3], line 4\u001b[0m\n\u001b[0;32m      1\u001b[0m \u001b[38;5;66;03m# TODO: Import NumPy\u001b[39;00m\n\u001b[0;32m      2\u001b[0m \u001b[38;5;28;01mimport\u001b[39;00m \u001b[38;5;21;01mnumpy\u001b[39;00m \u001b[38;5;28;01mas\u001b[39;00m \u001b[38;5;21;01mnp\u001b[39;00m\n\u001b[1;32m----> 4\u001b[0m file_name \u001b[38;5;241m=\u001b[39m \u001b[38;5;28minput\u001b[39m()\n\u001b[0;32m      6\u001b[0m \u001b[38;5;66;03m# TODO: Load student scores from file_name into a NumPy array\u001b[39;00m\n\u001b[0;32m      7\u001b[0m scores \u001b[38;5;241m=\u001b[39m np\u001b[38;5;241m.\u001b[39mloadtxt(file_name, dtype\u001b[38;5;241m=\u001b[39m\u001b[38;5;28mint\u001b[39m)\n",
      "File \u001b[1;32m~\\anaconda3\\Lib\\site-packages\\ipykernel\\kernelbase.py:1262\u001b[0m, in \u001b[0;36mKernel.raw_input\u001b[1;34m(self, prompt)\u001b[0m\n\u001b[0;32m   1260\u001b[0m     msg \u001b[38;5;241m=\u001b[39m \u001b[38;5;124m\"\u001b[39m\u001b[38;5;124mraw_input was called, but this frontend does not support input requests.\u001b[39m\u001b[38;5;124m\"\u001b[39m\n\u001b[0;32m   1261\u001b[0m     \u001b[38;5;28;01mraise\u001b[39;00m StdinNotImplementedError(msg)\n\u001b[1;32m-> 1262\u001b[0m \u001b[38;5;28;01mreturn\u001b[39;00m \u001b[38;5;28mself\u001b[39m\u001b[38;5;241m.\u001b[39m_input_request(\n\u001b[0;32m   1263\u001b[0m     \u001b[38;5;28mstr\u001b[39m(prompt),\n\u001b[0;32m   1264\u001b[0m     \u001b[38;5;28mself\u001b[39m\u001b[38;5;241m.\u001b[39m_parent_ident[\u001b[38;5;124m\"\u001b[39m\u001b[38;5;124mshell\u001b[39m\u001b[38;5;124m\"\u001b[39m],\n\u001b[0;32m   1265\u001b[0m     \u001b[38;5;28mself\u001b[39m\u001b[38;5;241m.\u001b[39mget_parent(\u001b[38;5;124m\"\u001b[39m\u001b[38;5;124mshell\u001b[39m\u001b[38;5;124m\"\u001b[39m),\n\u001b[0;32m   1266\u001b[0m     password\u001b[38;5;241m=\u001b[39m\u001b[38;5;28;01mFalse\u001b[39;00m,\n\u001b[0;32m   1267\u001b[0m )\n",
      "File \u001b[1;32m~\\anaconda3\\Lib\\site-packages\\ipykernel\\kernelbase.py:1305\u001b[0m, in \u001b[0;36mKernel._input_request\u001b[1;34m(self, prompt, ident, parent, password)\u001b[0m\n\u001b[0;32m   1302\u001b[0m \u001b[38;5;28;01mexcept\u001b[39;00m \u001b[38;5;167;01mKeyboardInterrupt\u001b[39;00m:\n\u001b[0;32m   1303\u001b[0m     \u001b[38;5;66;03m# re-raise KeyboardInterrupt, to truncate traceback\u001b[39;00m\n\u001b[0;32m   1304\u001b[0m     msg \u001b[38;5;241m=\u001b[39m \u001b[38;5;124m\"\u001b[39m\u001b[38;5;124mInterrupted by user\u001b[39m\u001b[38;5;124m\"\u001b[39m\n\u001b[1;32m-> 1305\u001b[0m     \u001b[38;5;28;01mraise\u001b[39;00m \u001b[38;5;167;01mKeyboardInterrupt\u001b[39;00m(msg) \u001b[38;5;28;01mfrom\u001b[39;00m \u001b[38;5;28;01mNone\u001b[39;00m\n\u001b[0;32m   1306\u001b[0m \u001b[38;5;28;01mexcept\u001b[39;00m \u001b[38;5;167;01mException\u001b[39;00m:\n\u001b[0;32m   1307\u001b[0m     \u001b[38;5;28mself\u001b[39m\u001b[38;5;241m.\u001b[39mlog\u001b[38;5;241m.\u001b[39mwarning(\u001b[38;5;124m\"\u001b[39m\u001b[38;5;124mInvalid Message:\u001b[39m\u001b[38;5;124m\"\u001b[39m, exc_info\u001b[38;5;241m=\u001b[39m\u001b[38;5;28;01mTrue\u001b[39;00m)\n",
      "\u001b[1;31mKeyboardInterrupt\u001b[0m: Interrupted by user"
     ]
    },
    {
     "name": "stdin",
     "output_type": "stream",
     "text": [
      " \n"
     ]
    }
   ],
   "source": [
    "# TODO: Import NumPy\n",
    "import numpy as np\n",
    "\n",
    "file_name = input()\n",
    "\n",
    "# TODO: Load student scores from file_name into a NumPy array\n",
    "scores = np.loadtxt(file_name, dtype=int)\n",
    "\n",
    "# TODO: Calculate the median and average of student scores\n",
    "median = np.median(scores)\n",
    "average = np.average(scores)\n",
    "\n",
    "# TODO: Curve student scores\n",
    "curved_scores = scores + (100 - np.max(scores))\n",
    "\n",
    "# TODO: Output the median, average, and curved scores\n",
    "print(\"Median = {:.2f}\".format(median))\n",
    "print(\"Average = {:.2f}\".format(average))\n",
    "print(\"Curved scores = \", end=\"\")\n",
    "print(curved_scores)\n",
    "print() #prints newline atlast"
   ]
  },
  {
   "cell_type": "code",
   "execution_count": null,
   "id": "6a77a77d-980b-4337-bc16-e85cff4a7c8f",
   "metadata": {},
   "outputs": [],
   "source": []
  },
  {
   "cell_type": "markdown",
   "id": "cd0d36cb-6e54-4ee2-8e66-9522dfdc7acc",
   "metadata": {},
   "source": [
    "## Pandas: Course grade statistics  "
   ]
  },
  {
   "cell_type": "markdown",
   "id": "c17d9bd5-0b8b-4e49-91fc-e2cae3bfda9f",
   "metadata": {},
   "source": [
    "Given the file name of a .tsv file read from user input containing student names and the respective course assignment grades, complete a program that performs the following tasks:\n",
    "\n",
    "- Read the input file as a pandas dataframe.\n",
    "- Output the students' names and grades in descending order of Finals scores.\n",
    "- Output each assignment's max score.\n",
    "- Output the median and average of each assignment's scores.\n",
    "- Output the standard deviation of each assignment's scores.\n",
    "\n",
    "NOTES:\n",
    "\n",
    "- Steps 3 through 5 should only require one function for each step. Ex. Finding the max of each assignment uses max()\n",
    "- Append .to_string() to the end of the function call in order to silence an extraneous line that occurs at the end of the output.\n",
    "- For steps 3, 4, and 5, the functions used will require the parameter numeric_only=True to be passed to specify that only numbers will be calculated (as the input file contains strings for student names).\n",
    "\n",
    "Input and Output Example\n",
    "\n",
    "Ex: If the input of the program is:\n",
    "    StudentInfo.tsv\n",
    "The output is:\n",
    "\n",
    "          Lname   Fname  Midterm1  Midterm2  Final\n",
    "    1  Bradshaw  Reagan        96        97     88\n",
    "    2  Charlton   Caius        73        94     80\n",
    "    0   Barrett    Edan        70        45     59\n",
    "    4     Stern  Brenda        90        86     45\n",
    "    3      Mayo  Tyrese        88        61     36\n",
    "    \n",
    "    Max Scores:\n",
    "    Midterm1    96\n",
    "    Midterm2    97\n",
    "    Final       88\n",
    "    \n",
    "    Median Scores:\n",
    "    Midterm1    88.0\n",
    "    Midterm2    86.0\n",
    "    Final       59.0\n",
    "    \n",
    "    Average Scores:\n",
    "    Midterm1    83.4\n",
    "    Midterm2    76.6\n",
    "    Final       61.6\n",
    "    \n",
    "    Standard Deviation:\n",
    "    Midterm1    11.304866\n",
    "    Midterm2    22.634045\n",
    "    Final       22.210358"
   ]
  },
  {
   "cell_type": "code",
   "execution_count": null,
   "id": "ff097de1-6c77-4807-89f9-826e12c0d3e1",
   "metadata": {},
   "outputs": [],
   "source": [
    "import pandas as pd\n",
    "\n",
    "def read_data(file_name):\n",
    "    #Read in file_name as a dataframe\n",
    "    df = pd.read_csv(file_name, sep='\\t')\n",
    "    return df\n",
    "\n",
    "def output_sorted_scores(df):\n",
    "    # Output rows by descending Final scores\n",
    "    sorted_df = df.sort_values(by='Final', ascending=False)\n",
    "    print(sorted_df)\n",
    "\n",
    "def output_max_scores(df):\n",
    "    # Output the max scores of each assignment\n",
    "    max_scores = df.max(numeric_only=True)\n",
    "    print(max_scores.to_string())\n",
    "\n",
    "def output_median_scores(df):\n",
    "    # Output the median scores of each assignment\n",
    "    median_scores = df.median(numeric_only=True)\n",
    "    print(median_scores.to_string())\n",
    "\n",
    "def output_average_scores(df):\n",
    "    # Output the average scores of each assignment\n",
    "    average_scores = df.mean(numeric_only=True)\n",
    "    print(average_scores.to_string())\n",
    "\n",
    "def output_std_deviation(df):\n",
    "    # Output the standard deviation of each assignment\n",
    "    std_deviation = df.std(numeric_only=True)\n",
    "    print(std_deviation.to_string())\n",
    "\n",
    "if __name__ == \"__main__\":\n",
    "    # Example \n",
    "    file_name = input(\"Enter the file name: \")\n",
    "    data_frame = read_data(file_name)\n",
    "\n",
    "    print(\"\\nSorted Scores:\")\n",
    "    output_sorted_scores(data_frame)\n",
    "\n",
    "    print(\"\\nMax Scores:\")\n",
    "    output_max_scores(data_frame)\n",
    "\n",
    "    print(\"\\nMedian Scores:\")\n",
    "    output_median_scores(data_frame)\n",
    "\n",
    "    print(\"\\nAverage Scores:\")\n",
    "    output_average_scores(data_frame)\n",
    "\n",
    "    print(\"\\nStandard Deviation:\")\n",
    "    output_std_deviation(data_frame)"
   ]
  },
  {
   "cell_type": "code",
   "execution_count": null,
   "id": "72d90295-b8b3-4c49-9334-690ab9c0956d",
   "metadata": {},
   "outputs": [],
   "source": []
  }
 ],
 "metadata": {
  "kernelspec": {
   "display_name": "Python 3 (ipykernel)",
   "language": "python",
   "name": "python3"
  },
  "language_info": {
   "codemirror_mode": {
    "name": "ipython",
    "version": 3
   },
   "file_extension": ".py",
   "mimetype": "text/x-python",
   "name": "python",
   "nbconvert_exporter": "python",
   "pygments_lexer": "ipython3",
   "version": "3.12.4"
  }
 },
 "nbformat": 4,
 "nbformat_minor": 5
}
